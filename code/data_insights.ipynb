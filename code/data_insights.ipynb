{
 "cells": [
  {
   "cell_type": "code",
   "execution_count": null,
   "metadata": {},
   "outputs": [],
   "source": [
    "chem_annotations.csv"
   ]
  },
  {
   "cell_type": "code",
   "execution_count": 10,
   "metadata": {},
   "outputs": [],
   "source": [
    "import os\n",
    "from collections import defaultdict\n",
    "\n",
    "import numpy as np\n",
    "import pandas as pd\n",
    "\n",
    "DATA_PATH = '../data/'\n",
    "\n",
    "selected_cols = ['BROAD_ID', 'CPD_NAME', 'CPD_SAMPLE_ID', 'CPD_SMILES']\n",
    "df = pd.read_csv(DATA_PATH+'chemical_annotations.csv', usecols=selected_cols)\n",
    "\n",
    "# replace white space\n",
    "df = df.replace(r'^\\s+$', np.nan, regex=True)\n",
    "df = df.dropna()"
   ]
  },
  {
   "cell_type": "code",
   "execution_count": 7,
   "metadata": {},
   "outputs": [
    {
     "data": {
      "text/html": [
       "<div>\n",
       "<style scoped>\n",
       "    .dataframe tbody tr th:only-of-type {\n",
       "        vertical-align: middle;\n",
       "    }\n",
       "\n",
       "    .dataframe tbody tr th {\n",
       "        vertical-align: top;\n",
       "    }\n",
       "\n",
       "    .dataframe thead th {\n",
       "        text-align: right;\n",
       "    }\n",
       "</style>\n",
       "<table border=\"1\" class=\"dataframe\">\n",
       "  <thead>\n",
       "    <tr style=\"text-align: right;\">\n",
       "      <th></th>\n",
       "      <th>BROAD_ID</th>\n",
       "      <th>CPD_NAME</th>\n",
       "      <th>CPD_SAMPLE_ID</th>\n",
       "      <th>CPD_SMILES</th>\n",
       "    </tr>\n",
       "  </thead>\n",
       "  <tbody>\n",
       "    <tr>\n",
       "      <th>0</th>\n",
       "      <td>BRD-A56675431-001-04-0</td>\n",
       "      <td>altizide</td>\n",
       "      <td>SA82748</td>\n",
       "      <td>NS(=O)(=O)c1cc2c(NC(CSCC=C)NS2(=O)=O)cc1Cl</td>\n",
       "    </tr>\n",
       "    <tr>\n",
       "      <th>1</th>\n",
       "      <td>BRD-A51829654-001-01-4</td>\n",
       "      <td>BRL-15,572</td>\n",
       "      <td>SA82481</td>\n",
       "      <td>OC(CN1CCN(CC1)c1cccc(Cl)c1)C(c1ccccc1)c1ccccc1</td>\n",
       "    </tr>\n",
       "    <tr>\n",
       "      <th>2</th>\n",
       "      <td>BRD-K04046242-001-03-6</td>\n",
       "      <td>equilin</td>\n",
       "      <td>SA82922</td>\n",
       "      <td>C[C@]12CC[C@H]3C(=CCc4cc(O)ccc34)[C@@H]1CCC2=O</td>\n",
       "    </tr>\n",
       "    <tr>\n",
       "      <th>3</th>\n",
       "      <td>BRD-K16508793-001-01-8</td>\n",
       "      <td>diazepam</td>\n",
       "      <td>SA59660</td>\n",
       "      <td>CN1c2ccc(Cl)cc2C(=NCC1=O)c1ccccc1</td>\n",
       "    </tr>\n",
       "    <tr>\n",
       "      <th>4</th>\n",
       "      <td>BRD-K09397065-001-01-6</td>\n",
       "      <td>SR 57227A</td>\n",
       "      <td>SA82504</td>\n",
       "      <td>NC1CCN(CC1)c1cccc(Cl)n1</td>\n",
       "    </tr>\n",
       "    <tr>\n",
       "      <th>5</th>\n",
       "      <td>BRD-K11927976-050-01-1</td>\n",
       "      <td>ER-27319</td>\n",
       "      <td>SA792875</td>\n",
       "      <td>Cc1ccc2c(c1C)n(CCCN)c1ccccc1c2=O</td>\n",
       "    </tr>\n",
       "    <tr>\n",
       "      <th>6</th>\n",
       "      <td>BRD-K14282469-001-01-5</td>\n",
       "      <td>PAPP</td>\n",
       "      <td>SA82523</td>\n",
       "      <td>Nc1ccc(CCN2CCN(CC2)c2cccc(c2)C(F)(F)F)cc1</td>\n",
       "    </tr>\n",
       "    <tr>\n",
       "      <th>7</th>\n",
       "      <td>BRD-K03070961-001-02-8</td>\n",
       "      <td>arachidonic acid</td>\n",
       "      <td>SA81971</td>\n",
       "      <td>CCCCC\\C=C/C\\C=C/C\\C=C/C\\C=C/CCCC(O)=O</td>\n",
       "    </tr>\n",
       "    <tr>\n",
       "      <th>8</th>\n",
       "      <td>BRD-K05977380-001-01-7</td>\n",
       "      <td>1-(1-naphthyl)piperazine</td>\n",
       "      <td>SA82463</td>\n",
       "      <td>C1CN(CCN1)c1cccc2ccccc12</td>\n",
       "    </tr>\n",
       "    <tr>\n",
       "      <th>9</th>\n",
       "      <td>BRD-A67514145-003-03-3</td>\n",
       "      <td>furaltadone</td>\n",
       "      <td>SA82929</td>\n",
       "      <td>[O-][N+](=O)c1ccc(\\C=N\\N2CC(CN3CCOCC3)OC2=O)o1</td>\n",
       "    </tr>\n",
       "  </tbody>\n",
       "</table>\n",
       "</div>"
      ],
      "text/plain": [
       "                 BROAD_ID                  CPD_NAME CPD_SAMPLE_ID  \\\n",
       "0  BRD-A56675431-001-04-0                  altizide       SA82748   \n",
       "1  BRD-A51829654-001-01-4                BRL-15,572       SA82481   \n",
       "2  BRD-K04046242-001-03-6                   equilin       SA82922   \n",
       "3  BRD-K16508793-001-01-8                  diazepam       SA59660   \n",
       "4  BRD-K09397065-001-01-6                 SR 57227A       SA82504   \n",
       "5  BRD-K11927976-050-01-1                  ER-27319      SA792875   \n",
       "6  BRD-K14282469-001-01-5                      PAPP       SA82523   \n",
       "7  BRD-K03070961-001-02-8          arachidonic acid       SA81971   \n",
       "8  BRD-K05977380-001-01-7  1-(1-naphthyl)piperazine       SA82463   \n",
       "9  BRD-A67514145-003-03-3               furaltadone       SA82929   \n",
       "\n",
       "                                       CPD_SMILES  \n",
       "0      NS(=O)(=O)c1cc2c(NC(CSCC=C)NS2(=O)=O)cc1Cl  \n",
       "1  OC(CN1CCN(CC1)c1cccc(Cl)c1)C(c1ccccc1)c1ccccc1  \n",
       "2  C[C@]12CC[C@H]3C(=CCc4cc(O)ccc34)[C@@H]1CCC2=O  \n",
       "3               CN1c2ccc(Cl)cc2C(=NCC1=O)c1ccccc1  \n",
       "4                         NC1CCN(CC1)c1cccc(Cl)n1  \n",
       "5                Cc1ccc2c(c1C)n(CCCN)c1ccccc1c2=O  \n",
       "6       Nc1ccc(CCN2CCN(CC2)c2cccc(c2)C(F)(F)F)cc1  \n",
       "7           CCCCC\\C=C/C\\C=C/C\\C=C/C\\C=C/CCCC(O)=O  \n",
       "8                        C1CN(CCN1)c1cccc2ccccc12  \n",
       "9  [O-][N+](=O)c1ccc(\\C=N\\N2CC(CN3CCOCC3)OC2=O)o1  "
      ]
     },
     "execution_count": 7,
     "metadata": {},
     "output_type": "execute_result"
    }
   ],
   "source": [
    "df.head(10)"
   ]
  },
  {
   "cell_type": "code",
   "execution_count": 15,
   "metadata": {},
   "outputs": [
    {
     "name": "stdout",
     "output_type": "stream",
     "text": [
      "30340\n",
      "30408\n",
      "30612\n"
     ]
    }
   ],
   "source": [
    "# unique count\n",
    "print (df['CPD_NAME'].unique().size)\n",
    "print (df['CPD_SMILES'].unique().size)\n",
    "print (df['BROAD_ID'].unique().size)"
   ]
  },
  {
   "cell_type": "code",
   "execution_count": 4,
   "metadata": {},
   "outputs": [
    {
     "name": "stdout",
     "output_type": "stream",
     "text": [
      "1: AG 490, {'Oc1ccc(cc1O)\\\\C=C(/C#N)C(=O)NCc1ccccc1', 'Oc1ccc(C=C(C#N)C(=O)NCc2ccccc2)cc1O'}\n",
      "2: GBR 13069, {'Fc1ccc(cc1)C(OCCN1CCN(CC=Cc2ccccc2)CC1)c1ccc(F)cc1', 'Fc1ccc(cc1)C(OCCN1CCN(C\\\\C=C\\\\c2ccccc2)CC1)c1ccc(F)cc1'}\n",
      "3: lasalocid, {'CC[C@H](C1OC(CC)(C[C@@H]1C)C1CC[C@](O)(CC)[C@H](C)O1)C(=O)C(C)[C@@H](O)[C@H](C)CCc1ccc(C)c(O)c1C(O)=O', 'CC[C@H]([C@H]1O[C@@](CC)(C[C@@H]1C)[C@H]1CC[C@](O)(CC)[C@H](C)O1)C(=O)[C@@H](C)[C@@H](O)[C@H](C)CCc1ccc(C)c(O)c1C(O)=O'}\n",
      "4: quinpirole, {'CCCN1CCCC2Cc3n[nH]cc3CC12', 'CCCN1CCC[C@@H]2Cc3n[nH]cc3C[C@@H]12'}\n",
      "5: noscapine, {'COc1ccc2[C@@H](OC(=O)c2c1OC)[C@@H]1N(C)CCc2cc3OCOc3c(OC)c12', 'COc1ccc2C(OC(=O)c2c1OC)C1N(C)CCc2cc3OCOc3c(OC)c12'}\n",
      "6: tropisetron, {'CN1[C@H]2CC[C@@H]1CC(C2)OC(=O)C1C=Nc2ccccc12', 'CN1C2CCC1CC(C2)OC(=O)c1c[nH]c2ccccc12'}\n",
      "7: yohimbine hydrochloride, {'COC(=O)C1C(O)CCC2CN3CCc4c([nH]c5ccccc45)C3CC12', 'COC(=O)[C@H]1[C@@H](O)CC[C@H]2CN3CCc4c([nH]c5ccccc45)[C@@H]3C[C@H]12'}\n",
      "8: diltiazem, {'COc1ccc(cc1)C1Sc2ccccc2N(CCN(C)C)C(=O)C1OC(C)=O', 'COc1ccc(cc1)[C@@H]1Sc2ccccc2N(CCN(C)C)C(=O)[C@@H]1OC(C)=O'}\n",
      "9: cefuroxime, {'CO\\\\N=C(\\\\C(=O)NC1C2SCC(COC(N)=O)=C(N2C1=O)C(O)=O)c1ccco1', 'CO\\\\N=C(/C(=O)N[C@H]1[C@H]2SCC(COC(N)=O)=C(N2C1=O)C(O)=O)c1ccco1'}\n",
      "10: naproxen, {'COc1ccc2cc(ccc2c1)C(C)C(O)=O', 'COc1ccc2cc(ccc2c1)[C@H](C)C(O)=O'}\n",
      "11: carbenoxolone, {'CC1(C)[C@H](CC[C@@]2(C)C1CC[C@]1(C)C2C(=O)C=C2[C@@H]3C[C@](C)(CC[C@]3(C)CC[C@@]12C)C(O)=O)OC(=O)CCC(O)=O', 'CC1(C)[C@H](CC[C@@]2(C)[C@H]1CC[C@]1(C)[C@@H]2C(=O)C=C2[C@@H]3C[C@](C)(CC[C@]3(C)CC[C@@]12C)C(O)=O)OC(=O)CCC(O)=O'}\n",
      "12: colchicine, {'COc1cc2CC[C@H](NC(C)=O)c3cc(=O)c(OC)ccc3-c2c(OC)c1OC', 'COc1cc2CCC(NC(C)=O)c3cc(=O)c(OC)ccc3-c2c(OC)c1OC'}\n",
      "13: timolol, {'CC(C)(C)NC[C@@H](O)COc1nsnc1N1CCOCC1', 'CC(C)(C)NC[C@H](O)COc1nsnc1N1CCOCC1', 'CC(C)(C)NCC(O)COc1nsnc1N1CCOCC1'}\n",
      "14: bromocriptine, {'CC(C)C[C@@H]1N2C(=O)[C@](NC(=O)[C@H]3CN(C)C4Cc5c(Br)[nH]c6cccc(C4=C3)c56)(O[C@@]2(O)[C@@H]2CCCN2C1=O)C(C)C', 'CC(C)CC1N2C(=O)[C@](NC(=O)C3CN(C)[C@@H]4Cc5c(Br)[nH]c6cccc(C4=C3)c56)(OC2(O)[C@@H]2CCCN2C1=O)C(C)C', 'CC(C)C[C@@H]1N2C(=O)[C@](NC(=O)[C@H]3CN(C)[C@@H]4Cc5c(Br)[nH]c6cccc(C4=C3)c56)(O[C@@]2(O)[C@@H]2CCCN2C1=O)C(C)C'}\n",
      "15: ajmaline, {'CC[C@H]1C2C[C@H]3[C@@H]4N(C)c5ccccc5C44C[C@H](C2[C@H]4O)N3[C@@H]1O', 'CC[C@H]1C2CC3[C@@H]4N(C)c5ccccc5[C@]44C[C@@H](C2C4O)N3[C@@H]1O'}\n",
      "16: ciclosporin, {'CC[C@@H]1NC(=O)[C@H]([C@H](O)[C@H](C)C\\\\C=C\\\\C)N(C)C(=O)[C@H](C(C)C)N(C)C(=O)[C@H](CC(C)C)N(C)C(=O)[C@H](CC(C)C)N(C)C(=O)[C@@H](C)NC(=O)[C@H](C)NC(=O)[C@H](CC(C)C)N(C)C(=O)[C@@H](NC(=O)[C@H](CC(C)C)N(C)C(=O)CN(C)C1=O)C(C)C', 'CCC1NC(=O)C(C(O)C(C)C\\\\C=C\\\\C)N(C)C(=O)C(C(C)C)N(C)C(=O)C(CC(C)C)N(C)C(=O)C(CC(C)C)N(C)C(=O)C(C)NC(=O)C(C)NC(=O)C(CC(C)C)N(C)C(=O)C(NC(=O)C(CC(C)C)N(C)C(=O)CN(C)C1=O)C(C)C'}\n",
      "17: methysergide, {'CC[C@@H](CO)NC(=O)[C@H]1CN(C)[C@@H]2Cc3cn(C)c4cccc(C2=C1)c34', 'CCC(CO)NC(=O)C1CN(C)C2Cc3cn(C)c4cccc(C2=C1)c34'}\n",
      "18: sulpiride, {'CCN1CCCC1CNC(=O)c1cc(ccc1OC)S(N)(=O)=O', 'CCN1CCC(CNC(=O)c2cc(ccc2OC)S(N)(=O)=O)C1', 'CCN1CCC[C@H]1CNC(=O)c1cc(ccc1OC)S(N)(=O)=O'}\n",
      "19: dehydrocholic acid, {'C[C@H](CCC(O)=O)[C@H]1CC[C@H]2[C@H]3[C@H](CC(=O)[C@]12C)[C@@]1(C)CCC(=O)C[C@H]1CC3=O', 'C[C@H](CCC(O)=O)[C@H]1CCC2C3C(CC(=O)[C@]12C)[C@@]1(C)CCC(=O)CC1CC3=O'}\n",
      "20: cortisone, {'C[C@]12CC(=O)[C@H]3[C@@H](CCC4=CC(=O)CC[C@]34C)[C@@H]1CC[C@]2(O)C(=O)CO', 'C[C@]12CC(=O)C3C(CCC4=CC(=O)CC[C@]34C)C1CC[C@]2(O)C(=O)CO'}\n",
      "21: prednisone, {'C[C@]12CC(=O)[C@H]3[C@@H](CCC4=CC(=O)C=C[C@]34C)[C@@H]1CC[C@]2(O)C(=O)CO', 'C[C@]12CC(=O)C3C(CCC4=CC(=O)C=C[C@]34C)C1CC[C@]2(O)C(=O)CO'}\n",
      "22: BH3I-1, {'CC(C)C(N1C(=S)S\\\\C(=C/c2ccccc2)C1=O)C(O)=O', 'CC(C)C(N1C(=S)S\\\\C(=C/c2ccc(Br)cc2)C1=O)C(O)=O'}\n",
      "23: tamoxifen, {'CCC(=C(c1ccccc1)c1ccc(OCCN(C)C)cc1)c1ccccc1', 'CC\\\\C(c1ccccc1)=C(/c1ccccc1)c1ccc(OCCN(C)C)cc1'}\n",
      "24: atropine, {'CN1[C@H]2CC[C@@H]1C[C@@H](C2)OC(=O)C(CO)c1ccccc1', 'CN1C2CCC1CC(C2)OC(=O)C(CO)c1ccccc1'}\n",
      "25: bucladesine, {'CCCC(=O)Nc1ncnc2n(cnc12)C1OC2COP(O)(=O)OC2C1OC(=O)CCC', 'CCCC(=O)Nc1ncnc2n(cnc12)[C@@H]1O[C@@H]2COP(O)(=O)O[C@H]2[C@H]1OC(=O)CCC', 'CCCC(=O)Nc1ncnc2n(cnc12)[C@@H]1O[C@@H]2OP(O)(=O)OC[C@H]2[C@H]1OC(=O)CCC'}\n",
      "26: huperzine A, {'C\\\\C=C1/C2Cc3[nH]c(=O)ccc3C1(N)CC(C)=C2', 'C\\\\C=C1/[C@@H]2Cc3[nH]c(=O)ccc3[C@@]1(N)CC(C)=C2'}\n",
      "27: fusidic acid, {'C[C@@H]1[C@H](O)CC[C@@]2(C)[C@H]1CC[C@@]1(C)C2[C@H](O)C[C@@H]2[C@]1(C)C[C@H](OC(C)=O)\\\\C2=C(/CCC=C(C)C)C(O)=O', 'C[C@@H]1[C@H](O)CC[C@@]2(C)C1CC[C@@]1(C)[C@H]2[C@H](O)C[C@@H]2[C@]1(C)C[C@H](OC(C)=O)\\\\C2=C(\\\\CCC=C(C)C)C(O)=O'}\n",
      "28: 2-methoxyestradiol, {'COc1cc2C3CC[C@]4(C)[C@@H](O)CCC4C3CCc2cc1O', 'COc1cc2C3CCC4(C)C(O)CCC4C3CCc2cc1O'}\n",
      "29: pravastatin, {'CCC(C)C(=O)O[C@H]1C[C@H](O)C=C2C=C[C@H](C)[C@H](CC[C@@H](O)C[C@@H](O)CC(O)=O)C12', 'CC[C@H](C)C(=O)O[C@H]1C[C@H](O)C=C2C=C[C@H](C)[C@H](CC[C@@H](O)C[C@@H](O)CC(O)=O)[C@@H]12'}\n",
      "30: anabasine, {'C1CC[C@@H](NC1)c1cccnc1', 'C1CC[C@H](NC1)c1cccnc1', 'C1CCC(NC1)c1cccnc1'}\n",
      "31: GBR 12783, {'C(CN1CCN(CC=Cc2ccccc2)CC1)OC(c1ccccc1)c1ccccc1', 'C(CN1CCN(C\\\\C=C\\\\c2ccccc2)CC1)OC(c1ccccc1)c1ccccc1'}\n",
      "32: austricine, {'C[C@H]1[C@H]2[C@H](OC1=O)[C@@H]1C(C)=CC(=O)C1=C(C)C[C@@H]2O', 'C[C@H]1[C@H]2[C@H](OC1=O)[C@H]1C(C)=CC(=O)C1=C(C)C[C@@H]2O'}\n",
      "33: boldine, {'COc1cc-2c(CC3N(C)CCc4cc(O)c(OC)c-2c34)cc1O', 'COc1cc-2c(C[C@@H]3N(C)CCc4cc(O)c(OC)c-2c34)cc1O'}\n",
      "34: homatropine hydrobromide, {'CN1C2CC[C@H]1C[C@H](C2)OC(=O)C(O)c1ccccc1', 'CN1[C@H]2CC[C@@H]1C[C@@H](C2)OC(=O)C(O)c1ccccc1'}\n",
      "35: vesamicol, {'O[C@@H]1CCCC[C@H]1N1CCC(CC1)c1ccccc1', 'OC1CCCCC1N1CCC(CC1)c1ccccc1'}\n",
      "36: ouabain, {'CC1OC(O[C@H]2C[C@@H](O)[C@]3(CO)[C@H]4[C@H](O)C[C@]5(C)[C@H](CC[C@]5(O)[C@@H]4CC[C@]3(O)C2)C2=CC(=O)OC2)C(O)C(O)C1O', 'C[C@@H]1O[C@@H](O[C@H]2C[C@@H](O)[C@]3(CO)[C@H]4[C@H](O)C[C@]5(C)[C@H](CC[C@]5(O)[C@@H]4CC[C@]3(O)C2)C2=CC(=O)OC2)[C@H](O)[C@H](O)[C@H]1O'}\n",
      "37: chlorphenamine, {'CN(C)CCC(c1ccc(Cl)cc1)c1ccccn1', 'CN(C)CC[C@H](c1ccc(Cl)cc1)c1ccccn1'}\n",
      "38: leoidin, {'COC(=O)c1c(C)c2Oc3c(Cl)c(OC)c(Cl)c(C)c3C(=O)Oc2c(C)c1OC', 'COC(=O)c1c(C)c2Oc3c(Cl)c(O)c(Cl)c(C)c3C(=O)Oc2c(C)c1O'}\n",
      "39: naltrexone, {'Oc1ccc2C[C@H]3N(CC4CC4)CC[C@@]45[C@@H](Oc1c24)C(=O)CC[C@@]35O', 'Oc1ccc2CC3N(CC4CC4)CCC45C(Oc1c24)C(=O)CCC35O'}\n",
      "40: propranolol, {'CC(C)NC[C@@H](O)COc1cccc2ccccc12', 'CC(C)NCC(O)COc1cccc2ccccc12', 'CC(C)NC[C@H](O)COc1cccc2ccccc12'}\n",
      "41: cytisine, {'O=c1cccc2C3CNCC(C3)Cn12', 'O=c1cccc2C3CNC[C@@H](C3)Cn12', 'O=c1cccc2[C@H]3CNC[C@H](C3)Cn12'}\n",
      "42: scopolamine, {'CN1C2CC(CC1C1OC21)OC(=O)C(CO)c1ccccc1', 'CN1[C@H]2C[C@@H](C[C@@H]1[C@H]1O[C@@H]21)OC(=O)[C@H](CO)c1ccccc1'}\n",
      "43: puromycin, {'COc1ccc(CC(N)C(=O)N[C@@H]2[C@@H](CO)O[C@H]([C@@H]2O)n2cnc3c(ncnc23)N(C)C)cc1', 'COc1ccc(C[C@H](N)C(=O)N[C@@H]2[C@@H](CO)O[C@H]([C@@H]2O)n2cnc3c(ncnc23)N(C)C)cc1'}\n",
      "44: sulmazole, {'COc1cc(ccc1-c1nc2ccncc2[nH]1)S(C)=O', 'COc1cc(ccc1-c1nc2ncccc2[nH]1)S(C)=O'}\n",
      "45: bergenin, {'COc1c(O)cc2C(=O)O[C@H]3[C@@H](O)[C@H](O)[C@@H](CO)O[C@@H]3c2c1O', 'COc1c(O)cc2C(=O)OC3C(O)C(O)C(CO)OC3c2c1O'}\n",
      "46: ursolic acid, {'C[C@@H]1CC[C@@]2(CC[C@]3(C)C(=CC[C@@H]4[C@@]5(C)CC[C@H](O)C(C)(C)[C@@H]5CC[C@@]34C)[C@@H]2[C@H]1C)C(O)=O', 'C[C@@H]1CC[C@@]2(CC[C@]3(C)C(=CCC4[C@@]5(C)CC[C@H](O)C(C)(C)C5CC[C@@]34C)C2[C@H]1C)C(O)=O'}\n",
      "47: canrenoic acid, {'C[C@]12CC[C@H]3[C@@H](C=CC4=CC(=O)CC[C@]34C)[C@@H]1CC[C@@]2(O)CCC(O)=O', 'C[C@]12CCC3C(C=CC4=CC(=O)CC[C@]34C)C1CC[C@@]2(O)CCC(O)=O'}\n",
      "48: estradiol, {'C[C@]12CC[C@H]3[C@@H](CCc4cc(O)ccc34)[C@@H]1CC[C@@H]2O', 'CC(=O)OC1CCC2C3CCc4cc(O)ccc4C3CCC12C'}\n",
      "49: naloxone, {'Oc1ccc2C[C@H]3N(CC=C)CC[C@@]45[C@@H](Oc1c24)C(=O)CC[C@@]35O', 'Oc1ccc2CC3N(CC=C)CCC45C(Oc1c24)C(CCC35O)=NNC(=O)c1ccccc1'}\n",
      "50: quipazine, {'CN1CCN(CC1)c1ccc2ccccc2n1', 'C1CN(CCN1)c1ccc2ccccc2n1'}\n",
      "51: cinanserin, {'CN(C)CCCSc1ccccc1NC(=O)\\\\C=C\\\\c1ccccc1', 'CN(C)CCCSc1ccccc1NC(=O)C=Cc1ccccc1'}\n",
      "52: NBQX, {'NS(=O)(=O)c1cccc2c1c(cc1[nH]c(=O)c(=O)[nH]c21)[N+]([O-])=O', 'NS(=O)(=O)c1cccc2c1c(cc1nc(O)c(O)nc21)[N+]([O-])=O'}\n",
      "53: naringin, {'C[C@@H]1O[C@@H](O[C@@H]2[C@@H](O)[C@H](O)[C@@H](CO)O[C@@H]2Oc2cc(O)c3C(=O)C[C@H](Oc3c2)c2ccc(O)cc2)[C@H](O)[C@H](O)[C@H]1O', 'C[C@@H]1O[C@@H](O[C@@H]2[C@@H](O)[C@H](O)[C@@H](CO)O[C@H]2Oc2cc(O)c3C(=O)C[C@H](Oc3c2)c2ccc(O)cc2)[C@H](O)[C@H](O)[C@H]1O'}\n",
      "54: nafcillin, {'CCOc1ccc2ccccc2c1NC(=O)[C@H]1[C@H]2SC(C)(C)C(N2C1=O)C(O)=O', 'CCOc1ccc2ccccc2c1C(=O)N[C@H]1[C@H]2SC(C)(C)[C@@H](N2C1=O)C(O)=O'}\n",
      "55: mycophenolic acid, {'COc1c(C)c2COC(=O)c2c(O)c1CC=C(C)CCC(O)=O', 'COc1c(C)c2COC(=O)c2c(O)c1C\\\\C=C(/C)CCC(O)=O'}\n",
      "56: triprolidine, {'Cc1ccc(cc1)C(=CCN1CCCC1)c1ccccn1', 'Cc1ccc(cc1)C(=C/CN1CCCC1)\\\\c1ccccn1'}\n",
      "57: levobunolol, {'CC(C)(C)NC[C@H](O)COc1cccc2C(=O)CCCc12', 'CC(C)(C)NC[C@@H](O)COc1cccc2C(=O)CCCc12'}\n",
      "58: flunarizine, {'Fc1ccc(cc1)C(N1CCN(CC=Cc2ccccc2)CC1)c1ccc(F)cc1', 'Fc1ccc(cc1)C(N1CCN(C\\\\C=C\\\\c2ccccc2)CC1)c1ccc(F)cc1'}\n",
      "59: evoxine, {'COc1c(OCC(O)C(C)(C)O)ccc2c(OC)c3ccoc3nc12', 'COc1c(OC[C@@H](O)C(C)(C)O)ccc2c(OC)c3ccoc3nc12'}\n",
      "60: 8-methoxymethyl-IBMX, {'COCc1nc2c([nH]1)n(CC(C)C)c(=O)n(C)c2=O', 'COCc1nc2n(CC(C)C)c(=O)n(C)c(=O)c2[nH]1'}\n",
      "61: CNQX, {'Oc1nc2cc(C#N)c(cc2nc1O)[N+]([O-])=O', '[O-][N+](=O)c1cc2[nH]c(=O)c(=O)[nH]c2cc1C#N'}\n"
     ]
    }
   ],
   "source": [
    "# checking the mapping name -> smiles\n",
    "name2smiles = defaultdict(set)\n",
    "for name, smiles in zip(df['CPD_NAME'], df['CPD_SMILES']):\n",
    "    name2smiles[name].add(smiles)\n",
    "  \n",
    "n = 1\n",
    "for name, smiles in name2smiles.items():\n",
    "    if len(smiles) > 1:\n",
    "        print (f'{n}: {name}, {smiles}')\n",
    "        n += 1"
   ]
  },
  {
   "cell_type": "markdown",
   "metadata": {},
   "source": [
    "From above, 61 compounds have more than one SMILES representations."
   ]
  },
  {
   "cell_type": "code",
   "execution_count": 14,
   "metadata": {},
   "outputs": [],
   "source": [
    "# checking the mapping smiles -> name\n",
    "smiles2name = defaultdict(set)\n",
    "for name, smiles in zip(df['CPD_SMILES'], df['BROAD_ID']):\n",
    "    smiles2name[smiles].add(name)\n",
    "  \n",
    "n = 1\n",
    "for smiles,name  in smiles2name.items():\n",
    "    if len(name) > 1:\n",
    "        print (f'{n}: {smiles}, {name}')\n",
    "        n += 1"
   ]
  },
  {
   "cell_type": "markdown",
   "metadata": {},
   "source": [
    "From above, every SMILES corresponds to one name."
   ]
  },
  {
   "cell_type": "code",
   "execution_count": null,
   "metadata": {},
   "outputs": [],
   "source": []
  }
 ],
 "metadata": {
  "kernelspec": {
   "display_name": "Python 3",
   "language": "python",
   "name": "python3"
  },
  "language_info": {
   "codemirror_mode": {
    "name": "ipython",
    "version": 3
   },
   "file_extension": ".py",
   "mimetype": "text/x-python",
   "name": "python",
   "nbconvert_exporter": "python",
   "pygments_lexer": "ipython3",
   "version": "3.7.7"
  }
 },
 "nbformat": 4,
 "nbformat_minor": 4
}
